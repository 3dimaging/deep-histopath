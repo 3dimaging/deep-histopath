{
 "cells": [
  {
   "cell_type": "code",
   "execution_count": 1,
   "metadata": {},
   "outputs": [
    {
     "name": "stderr",
     "output_type": "stream",
     "text": [
      "Using TensorFlow backend.\n"
     ]
    }
   ],
   "source": [
    "from breastcancer.inference import check_subsetting, predict_mitoses\n",
    "from time import gmtime, strftime\n",
    "import shutil"
   ]
  },
  {
   "cell_type": "markdown",
   "metadata": {},
   "source": [
    "## Predict the mitosis number for each ROI\n",
    "1. generate the ROIs for each slide\n",
    "2. generate the tiles for each ROI\n",
    "3. load the model to predict the mitosis number for each ROI\n",
    "4. parallelize the workflow using PySpark and run them on GPU"
   ]
  },
  {
   "cell_type": "code",
   "execution_count": 2,
   "metadata": {},
   "outputs": [],
   "source": [
    "# Ship a fresh copy of the `breastcancer` package to the Spark workers.\n",
    "# Note: The zip must include the `breastcancer` directory itself,\n",
    "# as well as all files within it for `addPyFile` to work correctly.\n",
    "# This is equivalent to `zip -r breastcancer.zip breastcancer`.\n",
    "dirname = \"breastcancer\"\n",
    "zipname = dirname + \".zip\"\n",
    "shutil.make_archive(dirname, 'zip', dirname + \"/..\", dirname)\n",
    "sc.addPyFile(zipname)\n",
    "sc.addPyFile(\"train_mitoses.py\")\n",
    "sc.addPyFile(\"preprocess_mitoses.py\")\n",
    "sc.addPyFile(\"resnet50.py\")"
   ]
  },
  {
   "cell_type": "code",
   "execution_count": null,
   "metadata": {},
   "outputs": [
    {
     "name": "stdout",
     "output_type": "stream",
     "text": [
      "Counter({'rr-ram3.softlayer.com': 0})\n",
      "[(0, 'rr-ram3.softlayer.com'), (1, 'rr-ram3.softlayer.com'), (2, 'rr-ram3.softlayer.com'), (3, 'rr-ram3.softlayer.com')]\n",
      "{0: 3, 1: 2, 2: 1, 3: 0}\n"
     ]
    },
    {
     "data": {
      "text/plain": [
       "PythonRDD[2] at RDD at PythonRDD.scala:48"
      ]
     },
     "execution_count": 3,
     "metadata": {},
     "output_type": "execute_result"
    }
   ],
   "source": [
    "dir = \"/home/fei/deep-histopath/deep-histopath/data/training_image_data/\"\n",
    "model_file = '/home/fei/deep-histopath/deep-histopath/model/0.95114_acc_0.58515_loss_530_epoch_model.hdf5'\n",
    "model_name = 'vgg'\n",
    "suffix = '*-49*.svs'\n",
    "node_num = 1\n",
    "gpu_per_node = 4\n",
    "partition_num = gpu_per_node * node_num\n",
    "ROI_size=6000\n",
    "ROI_overlap=0\n",
    "ROI_channel = 3\n",
    "skipROI=False\n",
    "tile_size=64\n",
    "tile_overlap=0\n",
    "tile_channel = 3\n",
    "batch_size = 128\n",
    "threshold=0.5\n",
    "isGPU = True\n",
    "isDebug = True\n",
    "save_mitosis_locations=True\n",
    "save_mask=True\n",
    "isDebug=True\n",
    "\n",
    "predict_result_rdd = predict_mitoses(sc, model_path=model_file, model_name = model_name, input_dir=dir, \n",
    "                                     file_suffix=suffix, partition_num=partition_num,\n",
    "                                     ROI_size=ROI_size, ROI_overlap=ROI_overlap, ROI_channel=ROI_channel,\n",
    "                                     skipROI=skipROI,\n",
    "                                     tile_size=tile_size, tile_overlap=tile_overlap, tile_channel=tile_channel,\n",
    "                                     threshold=threshold, isGPU=isGPU, \n",
    "                                     save_mitosis_locations=save_mitosis_locations,\n",
    "                                     save_mask=save_mask,\n",
    "                                     batch_size=batch_size, isDebug=isDebug)\n",
    "predict_result_rdd.cache()"
   ]
  },
  {
   "cell_type": "code",
   "execution_count": null,
   "metadata": {},
   "outputs": [
    {
     "name": "stdout",
     "output_type": "stream",
     "text": [
      "2017-10-06 22:25:15\n"
     ]
    }
   ],
   "source": [
    "start_time = strftime(\"%Y-%m-%d %H:%M:%S\",gmtime())\n",
    "print(start_time)\n",
    "result = predict_result_rdd.collect()\n",
    "print(result)\n",
    "end_time = strftime(\"%Y-%m-%d %H:%M:%S\",gmtime())\n",
    "print(end_time)"
   ]
  },
  {
   "cell_type": "markdown",
   "metadata": {},
   "source": [
    "## Experiment Test\n",
    "1. Generate a ROI\n",
    "2. Generate the tiles from the ROI\n",
    "3. Check if the tiles match the ROI\n",
    "4. Predict the mitosis number for each tile and sum the prediction result\n",
    "5. This could be used to test the performance of a single ROI prediction"
   ]
  },
  {
   "cell_type": "code",
   "execution_count": 13,
   "metadata": {
    "scrolled": true
   },
   "outputs": [
    {
     "name": "stderr",
     "output_type": "stream",
     "text": [
      "/Users/fei.hu1@ibm.com/anaconda/envs/python3.6/lib/python3.6/site-packages/keras/models.py:248: UserWarning: No training configuration found in save file: the model was *not* compiled. Compile it manually.\n",
      "  warnings.warn('No training configuration found in save file: '\n"
     ]
    }
   ],
   "source": [
    "import openslide\n",
    "import numpy as np\n",
    "import keras\n",
    "from keras.models import load_model\n",
    "from breastcancer.preprocessing import create_tile_generator, get_20x_zoom_level\n",
    "from skimage.util.shape import view_as_windows\n",
    "\n",
    "model_file = 'model/0.95114_acc_0.58515_loss_530_epoch_model.hdf5'\n",
    "filepath = 'data/training_image_data/TUPAC-TR-500.svs'\n",
    "ROI_size = 6000\n",
    "ROI_overlap = 0\n",
    "tile_size = 64\n",
    "tile_overlap = 10\n",
    "threshold = 0.5\n",
    "base_model = load_model(model_file)\n",
    "probs = keras.layers.Activation('sigmoid')(base_model.output)\n",
    "model = keras.models.Model(inputs=base_model.input, outputs=probs)\n",
    "slide = openslide.open_slide(str(filepath))\n",
    "generator = create_tile_generator(slide, ROI_size, ROI_overlap)\n",
    "zoom_level = get_20x_zoom_level(slide, generator)\n",
    "cols, rows = generator.level_tiles[zoom_level]\n",
    "ROI_indices = [(zoom_level, col, row) for col in range(cols) for row in range(rows)]\n",
    "ROI_index = ROI_indices[15]\n",
    "zl, col, row = ROI_index\n",
    "ROI = np.asarray(generator.get_tile(zl, (col, row)))"
   ]
  },
  {
   "cell_type": "code",
   "execution_count": 16,
   "metadata": {},
   "outputs": [
    {
     "name": "stdout",
     "output_type": "stream",
     "text": [
      "The shape of tiles (12100, 64, 64, 3);\n",
      "The shape of ROI (6000, 6000, 3)\n"
     ]
    }
   ],
   "source": [
    "tiles = view_as_windows(ROI, (tile_size, tile_size, 3), step=tile_size - tile_overlap).reshape(-1, tile_size, tile_size, 3)\n",
    "print(f\"The shape of tiles {tiles.shape};\\nThe shape of ROI {ROI.shape}\")"
   ]
  },
  {
   "cell_type": "code",
   "execution_count": 18,
   "metadata": {},
   "outputs": [
    {
     "name": "stdout",
     "output_type": "stream",
     "text": [
      "Is the ROI subsetting right? True\n"
     ]
    }
   ],
   "source": [
    "isSame = check_subsetting(ROI, ROI_size, tiles, tile_size, tile_overlap)\n",
    "print(f\"Is the ROI subsetting right? {isSame}\")"
   ]
  },
  {
   "cell_type": "code",
   "execution_count": 29,
   "metadata": {
    "collapsed": true
   },
   "outputs": [
    {
     "name": "stdout",
     "output_type": "stream",
     "text": [
      "12100/12100 [==============================] - 398s   \n",
      "The number of mitoses is 8\n"
     ]
    }
   ],
   "source": [
    "prediction = model.predict(tiles, batch_size=128, verbose=True) > threshold\n",
    "result = np.sum(prediction, dtype=np.int32)\n",
    "print(f\"The number of mitoses is {result}\")"
   ]
  }
 ],
 "metadata": {
  "kernelspec": {
   "display_name": "Python 3",
   "language": "python",
   "name": "python3"
  },
  "language_info": {
   "codemirror_mode": {
    "name": "ipython",
    "version": 3
   },
   "file_extension": ".py",
   "mimetype": "text/x-python",
   "name": "python",
   "nbconvert_exporter": "python",
   "pygments_lexer": "ipython3",
   "version": "3.6.1"
  }
 },
 "nbformat": 4,
 "nbformat_minor": 1
}
