{
 "cells": [
  {
   "cell_type": "code",
   "execution_count": null,
   "metadata": {},
   "outputs": [],
   "source": [
    "from breastcancer.inference import check_subsetting, predict_mitoses\n",
    "from time import gmtime, strftime\n",
    "import shutil"
   ]
  },
  {
   "cell_type": "markdown",
   "metadata": {},
   "source": [
    "## Predict the mitosis number & locations for each ROI\n",
    "1. generate the ROIs for each slide\n",
    "2. generate the tiles for each ROI\n",
    "3. load the model to predict the mitosis number for each ROI\n",
    "4. parallelize the workflow using PySpark and run them on GPU"
   ]
  },
  {
   "cell_type": "code",
   "execution_count": null,
   "metadata": {},
   "outputs": [],
   "source": [
    "# Ship a fresh copy of the `breastcancer` package to the Spark workers.\n",
    "# Note: The zip must include the `breastcancer` directory itself,\n",
    "# as well as all files within it for `addPyFile` to work correctly.\n",
    "# This is equivalent to `zip -r breastcancer.zip breastcancer`.\n",
    "dirname = \"breastcancer\"\n",
    "zipname = dirname + \".zip\"\n",
    "shutil.make_archive(dirname, 'zip', dirname + \"/..\", dirname)\n",
    "sc.addPyFile(zipname)\n",
    "sc.addPyFile(\"train_mitoses.py\")\n",
    "sc.addPyFile(\"preprocess_mitoses.py\")\n",
    "sc.addPyFile(\"resnet50.py\")"
   ]
  },
  {
   "cell_type": "code",
   "execution_count": null,
   "metadata": {},
   "outputs": [],
   "source": [
    "model_name = 'vgg'\n",
    "#model_name = 'resnet'\n",
    "skipROI = True\n",
    "marginalization = False\n",
    "batch_size = 128\n",
    "tile_overlap = 60\n",
    "suffix = '*.tif'\n",
    "\n",
    "\n",
    "if model_name == 'vgg':\n",
    "    model_file = '/8tb/deep_histopath/pred/model/0.74172_f1_1.7319_loss_8_epoch_model.hdf5'\n",
    "    #dir = '/8tb/deep_histopath/pred/data/vgg/val'\n",
    "    dir = '/8tb/deep_histopath/pred/data/vgg/train'\n",
    "elif model_name == 'resnet':\n",
    "    model_file = '/8tb/deep_histopath/pred/model/0.72938_f1_0.067459_loss_7_epoch_model.hdf5'\n",
    "    dir = '/8tb/deep_histopath/pred/data/resnet/val'\n",
    "\n",
    "#dir = \"/8tb/deep_histopath/data/mitoses/patches_aug_strat_sampled_fp_oversampling_png_improved_gen_dense3/val/mitosis/\"\n",
    "#suffix = '*.png'\n",
    "\n",
    "node_num = 2\n",
    "gpu_per_node = 4\n",
    "partition_num = gpu_per_node * node_num\n",
    "ROI_size = 6000\n",
    "ROI_overlap = 16\n",
    "ROI_channel = 3\n",
    "tile_size = 64\n",
    "tile_channel = 3\n",
    "threshold = 0.5\n",
    "isGPU = True\n",
    "isDebug = True\n",
    "save_mitosis_locations=True\n",
    "save_mask = True\n",
    "isDebug = True\n",
    "\n",
    "predict_result_rdd = predict_mitoses(sc, model_path=model_file, model_name = model_name, input_dir=dir, \n",
    "                                     file_suffix=suffix, partition_num=partition_num,\n",
    "                                     ROI_size=ROI_size, ROI_overlap=ROI_overlap, ROI_channel=ROI_channel,\n",
    "                                     skipROI=skipROI,\n",
    "                                     marginalization=marginalization,\n",
    "                                     tile_size=tile_size, tile_overlap=tile_overlap, tile_channel=tile_channel,\n",
    "                                     threshold=threshold, isGPU=isGPU, \n",
    "                                     save_mitosis_locations=save_mitosis_locations,\n",
    "                                     save_mask=save_mask,\n",
    "                                     batch_size=batch_size, isDebug=isDebug)\n",
    "predict_result_rdd.cache()"
   ]
  },
  {
   "cell_type": "code",
   "execution_count": null,
   "metadata": {},
   "outputs": [],
   "source": [
    "start_time = strftime(\"%Y-%m-%d %H:%M:%S\",gmtime())\n",
    "print(start_time)\n",
    "result = predict_result_rdd.collect()\n",
    "print(len(result))\n",
    "print(result)\n",
    "end_time = strftime(\"%Y-%m-%d %H:%M:%S\",gmtime())\n",
    "print(end_time)"
   ]
  },
  {
   "cell_type": "markdown",
   "metadata": {},
   "source": [
    "## Save the prediction results into CSV"
   ]
  },
  {
   "cell_type": "code",
   "execution_count": null,
   "metadata": {},
   "outputs": [],
   "source": [
    "from pyspark.sql import SparkSession\n",
    "import re\n",
    "\n",
    "def flat_result_2_row(predictions, reg_exp=\"\\d+_\\d+\"):\n",
    "  assert predictions is not None\n",
    "  result = []\n",
    "  slide_id, ROI, mitosis_num, mitosis_location_scores = predictions\n",
    "  for r, c, score in mitosis_location_scores:\n",
    "    slide_id = re.findall(reg_exp, slide_id)[0]\n",
    "    result.append((slide_id, ROI, mitosis_num, r, c, score))\n",
    "  return result\n",
    "\n",
    "csv_path = \"/8tb/deep_histopath/pred/result/vgg/train_60_vgg_nv3_128batch_aug1.csv\"\n",
    "spark = (SparkSession.builder.appName(\"aggreate_predictions_2_csv\").getOrCreate())\n",
    "\n",
    "\n",
    "pred_rows = predict_result_rdd.filter(lambda t: t is not None).flatMap(lambda t: flat_result_2_row(t)).cache()\n",
    "\n",
    "df = spark.createDataFrame(pred_rows, ['slide_id', 'ROI_id', 'mitosis_num_per_ROI', 'row_num', 'col_num', 'score'])\n",
    "\n",
    "dir = os.path.dirname(csv_path)\n",
    "os.makedirs(dir, exist_ok=True)\n",
    "df.toPandas().to_csv(csv_path, header=True, index=False)\n",
    "df.show()"
   ]
  },
  {
   "cell_type": "markdown",
   "metadata": {},
   "source": [
    "## Add the ground truth locations into the predicted result"
   ]
  },
  {
   "cell_type": "code",
   "execution_count": null,
   "metadata": {},
   "outputs": [],
   "source": [
    "from breastcancer.evaluation import add_ground_truth_mark\n",
    "from breastcancer.visualization import Shape\n",
    "from pathlib import Path\n",
    "import re\n",
    "\n",
    "im_dir = \"/home/fei/result/mitoses_train_image_result_test/48_val/\"\n",
    "partition_num = 4\n",
    "im_suffix = \"*mark.tif\"\n",
    "ground_truth_file_suffix = \"*.csv\"\n",
    "\n",
    "\n",
    "# Add ground truth mark. Note that the ground truth file does not have file schema\n",
    "ground_truth_dir = \"/home/fei/data/mitoses_ground_truth_test/val/\"\n",
    "mark_color=(255, 255, 0, 200)\n",
    "hasHeader = False\n",
    "add_ground_truth_mark(sc, partition_num, im_dir, im_suffix, ground_truth_dir, ground_truth_file_suffix, \n",
    "                      shape=Shape.CIRCLE, mark_color=mark_color, hasHeader=hasHeader)\n",
    "\n",
    "\n",
    "# Add the prediction result\n",
    "#ground_truth_dir = \"/home/fei/result/mitoses_train_image_result_test/32-val_vis/cluster\"\n",
    "#mark_color=(255, 0, 0, 200)\n",
    "#hasHeader = True\n",
    "#add_ground_truth_mark(sc, partition_num, im_dir, im_suffix, ground_truth_dir, ground_truth_file_suffix, \n",
    "#                      shape=Shape.CROSS, mark_color=mark_color, hasHeader=hasHeader)"
   ]
  },
  {
   "cell_type": "markdown",
   "metadata": {},
   "source": [
    "## Cluster the prediction result"
   ]
  },
  {
   "cell_type": "code",
   "execution_count": null,
   "metadata": {},
   "outputs": [],
   "source": [
    "from breastcancer.evaluation import cluster_prediction_result\n",
    "\n",
    "cluster_prediction_result(pred_dir=\"/8tb/deep_histopath/pred/result/vgg/train/\", eps=4, min_samples=1, hasHeader=True)"
   ]
  },
  {
   "cell_type": "markdown",
   "metadata": {},
   "source": [
    "## Compute F1 score"
   ]
  },
  {
   "cell_type": "code",
   "execution_count": null,
   "metadata": {
    "scrolled": true
   },
   "outputs": [],
   "source": [
    "from breastcancer.evaluation import evaluate_global_f1\n",
    "\n",
    "pred_dir = \"/8tb/deep_histopath/pred/result/vgg/train/cluster\"\n",
    "ground_true_dir = \"/home/fei/data/mitoses_ground_truth_test/train/\"\n",
    "threshold = 30\n",
    "f1_list, over_detected, non_detected, FP, TP, FN = evaluate_global_f1(pred_dir, ground_true_dir, threshold)\n",
    "\n",
    "print(f1_list)\n",
    "print(over_detected)\n",
    "print(non_detected)\n"
   ]
  },
  {
   "cell_type": "markdown",
   "metadata": {},
   "source": [
    "## Export FP to CSV File"
   ]
  },
  {
   "cell_type": "code",
   "execution_count": null,
   "metadata": {},
   "outputs": [],
   "source": [
    "from breastcancer.evaluation import export_F1_inputs_TP_FP_FN, export_single_F1_input\n",
    "export_F1_inputs_TP_FP_FN('/8tb/deep_histopath/pred/result/vgg/train-60-FP-TP_FN-label.csv', FP, TP, FN)\n",
    "export_single_F1_input('/8tb/deep_histopath/pred/result/vgg/', FP, \"FP\")\n",
    "export_single_F1_input('/8tb/deep_histopath/pred/result/vgg/', FN, \"FN\")"
   ]
  },
  {
   "cell_type": "markdown",
   "metadata": {},
   "source": [
    "## Experiment Test\n",
    "1. Generate a ROI\n",
    "2. Generate the tiles from the ROI\n",
    "3. Check if the tiles match the ROI\n",
    "4. Predict the mitosis number for each tile and sum the prediction result\n",
    "5. This could be used to test the performance of a single ROI prediction"
   ]
  },
  {
   "cell_type": "code",
   "execution_count": null,
   "metadata": {
    "scrolled": true
   },
   "outputs": [],
   "source": [
    "import openslide\n",
    "import numpy as np\n",
    "import keras\n",
    "from keras.models import load_model\n",
    "from breastcancer.preprocessing import create_tile_generator, get_20x_zoom_level\n",
    "from skimage.util.shape import view_as_windows\n",
    "\n",
    "model_file = 'model/0.95114_acc_0.58515_loss_530_epoch_model.hdf5'\n",
    "filepath = 'data/training_image_data/TUPAC-TR-500.svs'\n",
    "ROI_size = 6000\n",
    "ROI_overlap = 0\n",
    "tile_size = 64\n",
    "tile_overlap = 10\n",
    "threshold = 0.5\n",
    "base_model = load_model(model_file)\n",
    "probs = keras.layers.Activation('sigmoid')(base_model.output)\n",
    "model = keras.models.Model(inputs=base_model.input, outputs=probs)\n",
    "slide = openslide.open_slide(str(filepath))\n",
    "generator = create_tile_generator(slide, ROI_size, ROI_overlap)\n",
    "zoom_level = get_20x_zoom_level(slide, generator)\n",
    "cols, rows = generator.level_tiles[zoom_level]\n",
    "ROI_indices = [(zoom_level, col, row) for col in range(cols) for row in range(rows)]\n",
    "ROI_index = ROI_indices[15]\n",
    "zl, col, row = ROI_index\n",
    "ROI = np.asarray(generator.get_tile(zl, (col, row)))"
   ]
  },
  {
   "cell_type": "code",
   "execution_count": null,
   "metadata": {},
   "outputs": [],
   "source": [
    "tiles = view_as_windows(ROI, (tile_size, tile_size, 3), step=tile_size - tile_overlap).reshape(-1, tile_size, tile_size, 3)\n",
    "print(f\"The shape of tiles {tiles.shape};\\nThe shape of ROI {ROI.shape}\")"
   ]
  },
  {
   "cell_type": "code",
   "execution_count": null,
   "metadata": {},
   "outputs": [],
   "source": [
    "isSame = check_subsetting(ROI, ROI_size, tiles, tile_size, tile_overlap)\n",
    "print(f\"Is the ROI subsetting right? {isSame}\")"
   ]
  },
  {
   "cell_type": "code",
   "execution_count": null,
   "metadata": {},
   "outputs": [],
   "source": [
    "prediction = model.predict(tiles, batch_size=128, verbose=True) > threshold\n",
    "result = np.sum(prediction, dtype=np.int32)\n",
    "print(f\"The number of mitoses is {result}\")"
   ]
  },
  {
   "cell_type": "code",
   "execution_count": null,
   "metadata": {},
   "outputs": [],
   "source": [
    "from breastcancer.inference import predict_mitoses_help\n",
    "model_file = '/home/fei/deep-histopath/deep-histopath/model/0.74172_f1_1.7319_loss_8_epoch_model.hdf5'\n",
    "model_name = \"vgg\"\n",
    "index = 1\n",
    "file_partition = ['/home/fei/data/training_image_data/TUPAC-TR-085.svs']\n",
    "\n",
    "ROI_size = 6000\n",
    "ROI_overlap = 0\n",
    "\n",
    "result = predict_mitoses_help(model_file, model_name, index, file_partition,\n",
    "                           ROI_size, ROI_overlap, ROI_channel=3, skipROI=False,\n",
    "                           tile_size=64, tile_overlap=0, tile_channel=3,\n",
    "                           threshold=0.5, isGPU=True, batch_size=32,\n",
    "                           save_mitosis_locations=True,\n",
    "                           save_mask=True,\n",
    "                           isDebug=True)\n",
    "for element in result:\n",
    "    print(element)\n",
    "    print(\"\\n\")"
   ]
  },
  {
   "cell_type": "code",
   "execution_count": null,
   "metadata": {},
   "outputs": [],
   "source": []
  }
 ],
 "metadata": {
  "kernelspec": {
   "display_name": "Python 3",
   "language": "python",
   "name": "python3"
  },
  "language_info": {
   "codemirror_mode": {
    "name": "ipython",
    "version": 3
   },
   "file_extension": ".py",
   "mimetype": "text/x-python",
   "name": "python",
   "nbconvert_exporter": "python",
   "pygments_lexer": "ipython3",
   "version": "3.6.3"
  }
 },
 "nbformat": 4,
 "nbformat_minor": 1
}
